{
 "cells": [
  {
   "cell_type": "code",
   "execution_count": 10,
   "metadata": {},
   "outputs": [],
   "source": [
    "import pandas as pd\n",
    "from sklearn.model_selection import train_test_split\n",
    "from transformers import BertTokenizer, BertForSequenceClassification, Trainer, TrainingArguments\n",
    "from transformers import TextClassificationPipeline\n",
    "import torch"
   ]
  },
  {
   "cell_type": "code",
   "execution_count": 11,
   "metadata": {},
   "outputs": [
    {
     "name": "stdout",
     "output_type": "stream",
     "text": [
      "<class 'pandas.core.frame.DataFrame'>\n",
      "Index: 1061 entries, 0 to 19526\n",
      "Data columns (total 2 columns):\n",
      " #   Column  Non-Null Count  Dtype \n",
      "---  ------  --------------  ----- \n",
      " 0   Text    1061 non-null   object\n",
      " 1   label   1061 non-null   object\n",
      "dtypes: object(2)\n",
      "memory usage: 24.9+ KB\n"
     ]
    }
   ],
   "source": [
    "# 读取数据\n",
    "df = pd.read_csv('/Users/henry/Downloads/output.csv')\n",
    "df_marked = df.dropna(subset=['label'])\n",
    "df_marked.info()"
   ]
  },
  {
   "cell_type": "code",
   "execution_count": 12,
   "metadata": {},
   "outputs": [
    {
     "data": {
      "text/plain": [
       "label\n",
       "sentence       353\n",
       "meaningless    289\n",
       "url            128\n",
       "greeting       110\n",
       "log             91\n",
       "shell           54\n",
       "image_tag       36\n",
       "Name: count, dtype: int64"
      ]
     },
     "execution_count": 12,
     "metadata": {},
     "output_type": "execute_result"
    }
   ],
   "source": [
    "df_marked['label'].value_counts()"
   ]
  },
  {
   "cell_type": "code",
   "execution_count": 13,
   "metadata": {},
   "outputs": [
    {
     "name": "stderr",
     "output_type": "stream",
     "text": [
      "/var/folders/7_/vxh0n4sj3ydfhfytjrnvqpmm0000gn/T/ipykernel_46710/4293497458.py:5: SettingWithCopyWarning: \n",
      "A value is trying to be set on a copy of a slice from a DataFrame.\n",
      "Try using .loc[row_indexer,col_indexer] = value instead\n",
      "\n",
      "See the caveats in the documentation: https://pandas.pydata.org/pandas-docs/stable/user_guide/indexing.html#returning-a-view-versus-a-copy\n",
      "  df_marked['label'] = df_marked['label'].map(label_mapping)\n"
     ]
    }
   ],
   "source": [
    "# 标签映射\n",
    "label_mapping = {'sentence': 0, 'meaningless': 1, 'url': 2, 'greeting': 3, 'log': 4, 'shell': 5, 'image_tag': 6}\n",
    "\n",
    "# 将标签转换为整数\n",
    "df_marked['label'] = df_marked['label'].map(label_mapping)"
   ]
  },
  {
   "cell_type": "code",
   "execution_count": 14,
   "metadata": {},
   "outputs": [
    {
     "name": "stderr",
     "output_type": "stream",
     "text": [
      "Some weights of BertForSequenceClassification were not initialized from the model checkpoint at bert-base-uncased and are newly initialized: ['classifier.bias', 'classifier.weight']\n",
      "You should probably TRAIN this model on a down-stream task to be able to use it for predictions and inference.\n",
      "  0%|          | 0/318 [06:10<?, ?it/s]\n",
      "                                                 \n",
      "100%|██████████| 318/318 [07:10<00:00,  1.35s/it]\n"
     ]
    },
    {
     "name": "stdout",
     "output_type": "stream",
     "text": [
      "{'train_runtime': 430.4451, 'train_samples_per_second': 5.91, 'train_steps_per_second': 0.739, 'train_loss': 0.8624471028645834, 'epoch': 3.0}\n"
     ]
    },
    {
     "data": {
      "text/plain": [
       "('./saved_model/tokenizer_config.json',\n",
       " './saved_model/special_tokens_map.json',\n",
       " './saved_model/vocab.txt',\n",
       " './saved_model/added_tokens.json')"
      ]
     },
     "execution_count": 14,
     "metadata": {},
     "output_type": "execute_result"
    }
   ],
   "source": [
    "\n",
    "# 分割数据集\n",
    "train_texts, val_texts, train_labels, val_labels = train_test_split(\n",
    "    df_marked['Text'].tolist(), df_marked['label'].tolist(), test_size=0.2)\n",
    "\n",
    "# 使用BERT tokenizer\n",
    "tokenizer = BertTokenizer.from_pretrained('bert-base-uncased')\n",
    "\n",
    "# Tokenize数据\n",
    "train_encodings = tokenizer(train_texts, truncation=True, padding=True, max_length=512)\n",
    "val_encodings = tokenizer(val_texts, truncation=True, padding=True, max_length=512)\n",
    "\n",
    "# 转换成PyTorch数据格式\n",
    "class Dataset(torch.utils.data.Dataset):\n",
    "    def __init__(self, encodings, labels):\n",
    "        self.encodings = encodings\n",
    "        self.labels = labels\n",
    "\n",
    "    def __getitem__(self, idx):\n",
    "        item = {key: torch.tensor(val[idx]) for key, val in self.encodings.items()}\n",
    "        item['labels'] = torch.tensor(self.labels[idx])\n",
    "        return item\n",
    "\n",
    "    def __len__(self):\n",
    "        return len(self.labels)\n",
    "\n",
    "train_dataset = Dataset(train_encodings, train_labels)\n",
    "val_dataset = Dataset(val_encodings, val_labels)\n",
    "\n",
    "# 使用BERT进行分类\n",
    "model = BertForSequenceClassification.from_pretrained('bert-base-uncased', num_labels=len(df_marked['label'].unique()))\n",
    "\n",
    "# 训练参数\n",
    "training_args = TrainingArguments(\n",
    "    output_dir='./models',\n",
    "    num_train_epochs=3,\n",
    "    per_device_train_batch_size=8,\n",
    "    per_device_eval_batch_size=8,\n",
    "    warmup_steps=500,\n",
    "    weight_decay=0.01,\n",
    "    logging_dir='./logs',\n",
    ")\n",
    "\n",
    "# Trainer\n",
    "trainer = Trainer(\n",
    "    model=model,\n",
    "    args=training_args,\n",
    "    train_dataset=train_dataset,\n",
    "    eval_dataset=val_dataset,\n",
    ")\n",
    "\n",
    "# 模型训练\n",
    "trainer.train()\n",
    "\n",
    "# 保存模型\n",
    "model.save_pretrained('./saved_model')\n",
    "tokenizer.save_pretrained('./saved_model')\n"
   ]
  },
  {
   "cell_type": "code",
   "execution_count": 17,
   "metadata": {},
   "outputs": [],
   "source": [
    "from transformers import pipeline\n",
    "\n",
    "# 加载训练好的模型\n",
    "model = BertForSequenceClassification.from_pretrained('./saved_model')\n",
    "tokenizer = BertTokenizer.from_pretrained('./saved_model')\n",
    "\n",
    "# 创建分类pipeline\n",
    "classifier = pipeline('text-classification', model=model, tokenizer=tokenizer, truncation=True, max_length=512)\n",
    "\n",
    "def split_text_column_to_sentences(df, column_name):\n",
    "    # 初始化一个列表来存储所有句子\n",
    "    all_sentences = []\n",
    "    # 遍历指定列的每一行\n",
    "    for text in df[column_name]:\n",
    "        # 按空行分隔文本\n",
    "        formated_text = text.replace('\\r\\n', '\\n').replace('\\r', '\\n')\n",
    "        sentences = [sentence.strip().strip('\\n') for sentence in formated_text.split('\\n\\n') if sentence.strip()]\n",
    "        all_sentences.extend(sentences)  # 将句子添加到列表\n",
    "\n",
    "    return all_sentences\n",
    "\n",
    "def label_text(data, column_name):\n",
    "    labeled_data = data.copy()\n",
    "    for idx, row in labeled_data.iterrows():\n",
    "        sentence = row[column_name]\n",
    "        result = classifier(sentence)\n",
    "        labeled_data.at[idx, 'label'] = result\n",
    "    return labeled_data\n",
    "\n",
    "df_unmarked = df[df['label'].isna() == True]\n",
    "df_labeled = label_text(df_unmarked, 'Text')\n",
    "\n",
    "df_unmarked.update(df_labeled)\n",
    "df_unmarked.to_csv('/Users/henry/Downloads/result.csv')\n"
   ]
  }
 ],
 "metadata": {
  "kernelspec": {
   "display_name": "ds",
   "language": "python",
   "name": "python3"
  },
  "language_info": {
   "codemirror_mode": {
    "name": "ipython",
    "version": 3
   },
   "file_extension": ".py",
   "mimetype": "text/x-python",
   "name": "python",
   "nbconvert_exporter": "python",
   "pygments_lexer": "ipython3",
   "version": "3.8.19"
  }
 },
 "nbformat": 4,
 "nbformat_minor": 2
}
