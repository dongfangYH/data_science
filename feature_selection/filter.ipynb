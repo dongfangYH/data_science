{
 "cells": [
  {
   "cell_type": "markdown",
   "metadata": {},
   "source": [
    "过滤法特征选择，按特征发散程度或与目标变量的之间的相关性对各个特征进行评分\n",
    "单变量过滤方法：考虑单个特征与目标变量的相关性\n",
    "多变量过滤方法：同时考虑特征变量和目标变量的相关关系和特征之间的相互关系"
   ]
  },
  {
   "cell_type": "markdown",
   "metadata": {},
   "source": [
    "1. 方差阈值法（Variance Threshold)\n",
    "是一种无监督特征选择方法"
   ]
  },
  {
   "cell_type": "code",
   "execution_count": 1,
   "metadata": {},
   "outputs": [],
   "source": [
    "import numpy as np\n",
    "from sklearn.feature_selection import VarianceThreshold"
   ]
  },
  {
   "cell_type": "code",
   "execution_count": 3,
   "metadata": {},
   "outputs": [
    {
     "name": "stdout",
     "output_type": "stream",
     "text": [
      "特征的方差:  [0.13888889 2.55555556 3.13888889 7.66666667]\n",
      "特征选择后的数据集: [[2 3 4]\n",
      " [6 7 9]\n",
      " [4 4 2]\n",
      " [4 6 1]\n",
      " [7 3 2]\n",
      " [5 2 6]]\n"
     ]
    }
   ],
   "source": [
    "# dataset\n",
    "X = np.array([\n",
    "    [1, 2, 3, 4],\n",
    "    [1, 6, 7, 9],\n",
    "    [1, 4, 4, 2],\n",
    "    [1, 4, 6, 1],\n",
    "    [0, 7, 3, 2],\n",
    "    [1, 5, 2, 6]\n",
    "])\n",
    "# 设置阈值为1\n",
    "selector = VarianceThreshold(1.0)\n",
    "# train dataset\n",
    "selector.fit(X)\n",
    "# select feature\n",
    "selected_X = selector.transform(X)\n",
    "print(\"特征的方差: \", selector.variances_)\n",
    "print(\"特征选择后的数据集:\", selected_X)"
   ]
  },
  {
   "cell_type": "markdown",
   "metadata": {},
   "source": [
    "2. 卡方统计量法（Chi-squared Statistic)-分类"
   ]
  },
  {
   "cell_type": "code",
   "execution_count": 5,
   "metadata": {},
   "outputs": [],
   "source": [
    "from sklearn.feature_selection import chi2, SelectKBest"
   ]
  },
  {
   "cell_type": "code",
   "execution_count": 7,
   "metadata": {},
   "outputs": [
    {
     "name": "stdout",
     "output_type": "stream",
     "text": [
      "特征卡方统计量值 [0.1        0.44642857 0.08       9.1875    ]\n",
      "特征选择后的数据集 [[2 4]\n",
      " [6 9]\n",
      " [4 2]\n",
      " [4 1]\n",
      " [7 2]\n",
      " [5 6]]\n"
     ]
    }
   ],
   "source": [
    "# dataset \n",
    "Y = np.array([1, 0, 1, 1, 1, 0])\n",
    "selector = SelectKBest(chi2, k=2)\n",
    "selector.fit(X, Y)\n",
    "selected_X = selector.transform(X)\n",
    "\n",
    "# 值越大对分类结果的贡献越大\n",
    "print(\"特征卡方统计量值：\", selector.scores_)\n",
    "print(\"特征选择后的数据集：\", selected_X)"
   ]
  },
  {
   "cell_type": "markdown",
   "metadata": {},
   "source": [
    "3. 互信息法（Mutual Information) \n",
    "分类问题(mutual_info_classif) 当y为离散变量时\n",
    "回归问题(mutual_info_regression) 当y为连续型变量时"
   ]
  },
  {
   "cell_type": "code",
   "execution_count": 9,
   "metadata": {},
   "outputs": [],
   "source": [
    "from sklearn.feature_selection import mutual_info_classif"
   ]
  },
  {
   "cell_type": "code",
   "execution_count": 10,
   "metadata": {},
   "outputs": [
    {
     "name": "stdout",
     "output_type": "stream",
     "text": [
      "特征和目标变量的互信息值 [0.33888889 0.         0.         0.39444444]\n",
      "特征选择的数据集 [[1 4]\n",
      " [1 9]\n",
      " [1 2]\n",
      " [1 1]\n",
      " [0 2]\n",
      " [1 6]]\n"
     ]
    }
   ],
   "source": [
    "selector = SelectKBest(mutual_info_classif, k=2)\n",
    "selector.fit(X, Y)\n",
    "selected_X = selector.transform(X)\n",
    "\n",
    "print(\"特征和目标变量的互信息值\", selector.scores_)\n",
    "print(\"特征选择的数据集\", selected_X)"
   ]
  },
  {
   "cell_type": "markdown",
   "metadata": {},
   "source": [
    "4. F统计量法（F-score）\n",
    "分类问题\n",
    "回归问题\n",
    "\n",
    "F值较大，表示变量之间具有较强的相关性"
   ]
  },
  {
   "cell_type": "code",
   "execution_count": 11,
   "metadata": {},
   "outputs": [],
   "source": [
    "from sklearn.feature_selection import f_classif"
   ]
  },
  {
   "cell_type": "code",
   "execution_count": 13,
   "metadata": {},
   "outputs": [
    {
     "name": "stdout",
     "output_type": "stream",
     "text": [
      "特征F-统计值 [ 0.44444528  0.62892926  0.07207263 15.8918915 ]\n",
      "特征选择后的数据值 [[2 4]\n",
      " [6 9]\n",
      " [4 2]\n",
      " [4 1]\n",
      " [7 2]\n",
      " [5 6]]\n"
     ]
    }
   ],
   "source": [
    "selector = SelectKBest(f_classif, k=2)\n",
    "selector.fit(X, Y)\n",
    "selected_X = selector.transform(X)\n",
    "\n",
    "print(\"特征F-统计值\", selector.scores_)\n",
    "print(\"特征选择后的数据值\", selected_X)"
   ]
  },
  {
   "cell_type": "markdown",
   "metadata": {},
   "source": [
    "5. 皮尔逊相关系数（Pearson Correlation）\n",
    "回归问题\n",
    "\n",
    "用于衡量两个连续变量之间的线性相关性程度（两个随机变量协方差和标准差的商）\n",
    "\n",
    "皮尔逊相关系数越大，表示特征与目标变量越相关"
   ]
  },
  {
   "cell_type": "code",
   "execution_count": 14,
   "metadata": {},
   "outputs": [],
   "source": [
    "from scipy.stats import pearsonr\n",
    "import pandas as pd"
   ]
  },
  {
   "cell_type": "code",
   "execution_count": 34,
   "metadata": {},
   "outputs": [
    {
     "name": "stdout",
     "output_type": "stream",
     "text": [
      "Scores:\n",
      " MedInc        0.701925\n",
      "HouseAge      0.103210\n",
      "AveRooms      0.366727\n",
      "AveBedrms     0.067487\n",
      "Population    0.038479\n",
      "AveOccup      0.048475\n",
      "Latitude      0.116499\n",
      "Longitude     0.056742\n",
      "dtype: float64\n",
      "Selected Features: ['MedInc' 'HouseAge' 'AveRooms' 'Latitude']\n"
     ]
    }
   ],
   "source": [
    "house_train_df = pd.read_csv(\"../data/california_house/train.csv\", index_col=['id'])\n",
    "Y = house_train_df['MedHouseVal']\n",
    "X = house_train_df.drop(columns=['MedHouseVal'])\n",
    "\n",
    "def ud_pearsonr(X, Y):\n",
    "    result = np.array([pearsonr(x, Y) for x in X.T])\n",
    "    return np.absolute(result[:, 0])\n",
    "\n",
    "# 创建 SelectKBest 对象并拟合数据\n",
    "selector = SelectKBest(ud_pearsonr, k=4)\n",
    "selector.fit(X, Y)\n",
    "\n",
    "selected_X = selector.transform(X)\n",
    "\n",
    "print(\"Scores:\\n\", pd.Series(selector.scores_, index=X.columns))\n",
    "print(\"Selected Features:\", np.array(X.columns)[selector.get_support(indices=True)])"
   ]
  },
  {
   "cell_type": "markdown",
   "metadata": {},
   "source": [
    "多变量过滤方法\n",
    "\n",
    "单变量过滤方法只考虑了单个特征变量和目标变量之间的相关性，无法避免特征之间的冗余。\n",
    "多变量过滤方法则解决了这个问题。"
   ]
  },
  {
   "cell_type": "markdown",
   "metadata": {},
   "source": [
    "6. 最大相关最小冗余（mRMR)\n",
    "mRMR方法试图寻找一个与目标变量有较高相关度的特征子集，同时特征之间保持低的相关度，对相关度高的冗余特征进行惩罚。\n",
    "mrmr_classif 处理分类问题\n",
    "mrmr_regression 处理回归问题\n"
   ]
  },
  {
   "cell_type": "code",
   "execution_count": 38,
   "metadata": {},
   "outputs": [],
   "source": [
    "from mrmr import mrmr_classif"
   ]
  },
  {
   "cell_type": "code",
   "execution_count": 39,
   "metadata": {},
   "outputs": [
    {
     "name": "stderr",
     "output_type": "stream",
     "text": [
      "100%|██████████| 2/2 [00:00<00:00,  4.08it/s]"
     ]
    },
    {
     "name": "stdout",
     "output_type": "stream",
     "text": [
      "选择的特征是:  ['D', 'B']\n"
     ]
    },
    {
     "name": "stderr",
     "output_type": "stream",
     "text": [
      "\n"
     ]
    }
   ],
   "source": [
    "X = np.array([\n",
    "    [1, 2, 3, 4],\n",
    "    [1, 6, 7, 9],\n",
    "    [1, 4, 4, 2],\n",
    "    [1, 4, 6, 1],\n",
    "    [0, 7, 3, 2],\n",
    "    [1, 5, 2, 6]\n",
    "])\n",
    "Y = np.array([1, 0, 1, 1, 1, 0])\n",
    "X = pd.DataFrame(X, columns=['A','B','C','D'])\n",
    "\n",
    "selected = mrmr_classif(X=X, y=Y, K=2)\n",
    "\n",
    "print(\"选择的特征是: \", selected)"
   ]
  },
  {
   "cell_type": "markdown",
   "metadata": {},
   "source": [
    "综合比较"
   ]
  },
  {
   "cell_type": "code",
   "execution_count": 41,
   "metadata": {},
   "outputs": [],
   "source": [
    "from sklearn.datasets import load_wine\n",
    "from sklearn.model_selection import train_test_split\n",
    "from sklearn.feature_selection import VarianceThreshold, chi2, SelectKBest\n",
    "from sklearn.feature_selection import mutual_info_classif, f_classif\n",
    "from mrmr import mrmr_classif\n",
    "from sklearn.tree import  DecisionTreeClassifier as DTC\n"
   ]
  },
  {
   "cell_type": "code",
   "execution_count": 48,
   "metadata": {},
   "outputs": [],
   "source": [
    "# data prepare \n",
    "wine = load_wine()\n",
    "wine\n",
    "X = wine.data\n",
    "Y = wine.target\n",
    "# 特征子集大小\n",
    "class_num = 5"
   ]
  },
  {
   "cell_type": "code",
   "execution_count": 49,
   "metadata": {},
   "outputs": [
    {
     "name": "stdout",
     "output_type": "stream",
     "text": [
      "方差阈值法选择的特征： [ 1  3  4  9 12]\n"
     ]
    }
   ],
   "source": [
    "# 方差阈值法\n",
    "vt_sel = VarianceThreshold(1.0)\n",
    "vt_sel.fit(X)\n",
    "vt_trans_X = vt_sel.transform(X)\n",
    "print(\"方差阈值法选择的特征：\", vt_sel.get_support(True))"
   ]
  },
  {
   "cell_type": "code",
   "execution_count": 50,
   "metadata": {},
   "outputs": [
    {
     "name": "stdout",
     "output_type": "stream",
     "text": [
      "卡方统计量选择的特征： [ 3  4  6  9 12]\n"
     ]
    }
   ],
   "source": [
    "# 卡方统计量法\n",
    "chi_sel = SelectKBest(chi2, k=class_num)\n",
    "chi_sel.fit(X, Y)\n",
    "chi_trans_X = chi_sel.transform(X)\n",
    "print(\"卡方统计量选择的特征：\", chi_sel.get_support(True))"
   ]
  },
  {
   "cell_type": "code",
   "execution_count": 52,
   "metadata": {},
   "outputs": [
    {
     "name": "stdout",
     "output_type": "stream",
     "text": [
      "互信息法选择的特征是： [ 0  6  9 11 12]\n"
     ]
    }
   ],
   "source": [
    "# 互信息法\n",
    "mi_sel = SelectKBest(mutual_info_classif, k=class_num)\n",
    "mi_sel.fit(X, Y)\n",
    "mi_trans_X = mi_sel.transform(X)\n",
    "print(\"互信息法选择的特征是：\", mi_sel.get_support(True))"
   ]
  },
  {
   "cell_type": "code",
   "execution_count": 53,
   "metadata": {},
   "outputs": [
    {
     "name": "stdout",
     "output_type": "stream",
     "text": [
      "F统计量选择的特征： [ 0  6  9 11 12]\n"
     ]
    }
   ],
   "source": [
    "# F-统计量\n",
    "F_sel = SelectKBest(f_classif, k = class_num)\n",
    "F_sel.fit(X, Y)\n",
    "F_trans_X = F_sel.transform(X)\n",
    "print(\"F统计量选择的特征：\", F_sel.get_support(True))"
   ]
  },
  {
   "cell_type": "code",
   "execution_count": 55,
   "metadata": {},
   "outputs": [
    {
     "name": "stderr",
     "output_type": "stream",
     "text": [
      "100%|██████████| 5/5 [00:00<00:00, 22.42it/s]"
     ]
    },
    {
     "name": "stdout",
     "output_type": "stream",
     "text": [
      "mRMR 选择的特征是： [0, 6, 9, 11, 12]\n"
     ]
    },
    {
     "name": "stderr",
     "output_type": "stream",
     "text": [
      "\n"
     ]
    }
   ],
   "source": [
    "# mRMR方法\n",
    "dfX = pd.DataFrame(X, columns=[i for i in range(len(wine.feature_names))])\n",
    "F = mrmr_classif(dfX, Y, class_num)\n",
    "mrmr_trans_X = X[:, F]\n",
    "print(\"mRMR 选择的特征是：\", np.sort(F).tolist())"
   ]
  },
  {
   "cell_type": "code",
   "execution_count": 56,
   "metadata": {},
   "outputs": [],
   "source": [
    "# 定义模型计算精度\n",
    "def ClassifyingModel(X, Y):\n",
    "    X_train, X_test, y_train, y_test = train_test_split(X, Y, random_state=9)\n",
    "    tree = DTC(criterion=\"entropy\", max_depth=3, random_state=9)\n",
    "    tree.fit(X_train, y_train)\n",
    "    # 计算精度\n",
    "    score = tree.score(X_test, y_test, sample_weight=None)\n",
    "    return score\n"
   ]
  },
  {
   "cell_type": "code",
   "execution_count": 57,
   "metadata": {},
   "outputs": [
    {
     "name": "stdout",
     "output_type": "stream",
     "text": [
      "方差阈值法： 0.8888888888888888\n",
      "卡方统计量法： 0.9777777777777777\n",
      "互信息法： 0.9777777777777777\n",
      "F-统计量法:  0.9777777777777777\n",
      "mRMR法:  0.9777777777777777\n"
     ]
    }
   ],
   "source": [
    "# 结果对比\n",
    "print(\"方差阈值法：\", ClassifyingModel(vt_trans_X, Y))\n",
    "print(\"卡方统计量法：\", ClassifyingModel(chi_trans_X, Y))\n",
    "print(\"互信息法：\", ClassifyingModel(mi_trans_X, Y))\n",
    "print(\"F-统计量法: \", ClassifyingModel(F_trans_X, Y))\n",
    "print(\"mRMR法: \", ClassifyingModel(mrmr_trans_X, Y))"
   ]
  }
 ],
 "metadata": {
  "kernelspec": {
   "display_name": "base",
   "language": "python",
   "name": "python3"
  },
  "language_info": {
   "codemirror_mode": {
    "name": "ipython",
    "version": 3
   },
   "file_extension": ".py",
   "mimetype": "text/x-python",
   "name": "python",
   "nbconvert_exporter": "python",
   "pygments_lexer": "ipython3",
   "version": "3.11.7"
  }
 },
 "nbformat": 4,
 "nbformat_minor": 2
}
