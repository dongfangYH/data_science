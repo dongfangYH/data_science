{
 "cells": [
  {
   "cell_type": "markdown",
   "metadata": {},
   "source": [
    "过滤法特征选择，按特征发散程度或与目标变量的之间的相关性对各个特征进行评分\n",
    "单变量过滤方法：考虑单个特征与目标变量的相关性\n",
    "多变量过滤方法：同时考虑特征变量和目标变量的相关关系和特征之间的相互关系"
   ]
  },
  {
   "cell_type": "markdown",
   "metadata": {},
   "source": [
    "1. 方差阈值法（Variance Threshold)\n",
    "是一种无监督特征选择方法"
   ]
  },
  {
   "cell_type": "code",
   "execution_count": 1,
   "metadata": {},
   "outputs": [],
   "source": [
    "import numpy as np\n",
    "from sklearn.feature_selection import VarianceThreshold"
   ]
  },
  {
   "cell_type": "code",
   "execution_count": 3,
   "metadata": {},
   "outputs": [
    {
     "name": "stdout",
     "output_type": "stream",
     "text": [
      "特征的方差:  [0.13888889 2.55555556 3.13888889 7.66666667]\n",
      "特征选择后的数据集: [[2 3 4]\n",
      " [6 7 9]\n",
      " [4 4 2]\n",
      " [4 6 1]\n",
      " [7 3 2]\n",
      " [5 2 6]]\n"
     ]
    }
   ],
   "source": [
    "# dataset\n",
    "X = np.array([\n",
    "    [1, 2, 3, 4],\n",
    "    [1, 6, 7, 9],\n",
    "    [1, 4, 4, 2],\n",
    "    [1, 4, 6, 1],\n",
    "    [0, 7, 3, 2],\n",
    "    [1, 5, 2, 6]\n",
    "])\n",
    "# 设置阈值为1\n",
    "selector = VarianceThreshold(1.0)\n",
    "# train dataset\n",
    "selector.fit(X)\n",
    "# select feature\n",
    "selected_X = selector.transform(X)\n",
    "print(\"特征的方差: \", selector.variances_)\n",
    "print(\"特征选择后的数据集:\", selected_X)"
   ]
  },
  {
   "cell_type": "markdown",
   "metadata": {},
   "source": [
    "2. 卡方统计量法（Chi-squared Statistic)-分类"
   ]
  },
  {
   "cell_type": "code",
   "execution_count": 5,
   "metadata": {},
   "outputs": [],
   "source": [
    "from sklearn.feature_selection import chi2, SelectKBest"
   ]
  },
  {
   "cell_type": "code",
   "execution_count": 7,
   "metadata": {},
   "outputs": [
    {
     "name": "stdout",
     "output_type": "stream",
     "text": [
      "特征卡方统计量值 [0.1        0.44642857 0.08       9.1875    ]\n",
      "特征选择后的数据集 [[2 4]\n",
      " [6 9]\n",
      " [4 2]\n",
      " [4 1]\n",
      " [7 2]\n",
      " [5 6]]\n"
     ]
    }
   ],
   "source": [
    "# dataset \n",
    "Y = np.array([1, 0, 1, 1, 1, 0])\n",
    "selector = SelectKBest(chi2, k=2)\n",
    "selector.fit(X, Y)\n",
    "selected_X = selector.transform(X)\n",
    "\n",
    "# 值越大对分类结果的贡献越大\n",
    "print(\"特征卡方统计量值：\", selector.scores_)\n",
    "print(\"特征选择后的数据集：\", selected_X)"
   ]
  },
  {
   "cell_type": "markdown",
   "metadata": {},
   "source": [
    "3. 互信息法（Mutual Information) \n",
    "分类问题(mutual_info_classif) 当y为离散变量时\n",
    "回归问题(mutual_info_regression) 当y为连续型变量时"
   ]
  },
  {
   "cell_type": "code",
   "execution_count": 9,
   "metadata": {},
   "outputs": [],
   "source": [
    "from sklearn.feature_selection import mutual_info_classif"
   ]
  },
  {
   "cell_type": "code",
   "execution_count": 10,
   "metadata": {},
   "outputs": [
    {
     "name": "stdout",
     "output_type": "stream",
     "text": [
      "特征和目标变量的互信息值 [0.33888889 0.         0.         0.39444444]\n",
      "特征选择的数据集 [[1 4]\n",
      " [1 9]\n",
      " [1 2]\n",
      " [1 1]\n",
      " [0 2]\n",
      " [1 6]]\n"
     ]
    }
   ],
   "source": [
    "selector = SelectKBest(mutual_info_classif, k=2)\n",
    "selector.fit(X, Y)\n",
    "selected_X = selector.transform(X)\n",
    "\n",
    "print(\"特征和目标变量的互信息值\", selector.scores_)\n",
    "print(\"特征选择的数据集\", selected_X)"
   ]
  },
  {
   "cell_type": "markdown",
   "metadata": {},
   "source": [
    "4. F统计量法（F-score）\n",
    "分类问题\n",
    "回归问题\n",
    "\n",
    "F值较大，表示变量之间具有较强的相关性"
   ]
  },
  {
   "cell_type": "code",
   "execution_count": 11,
   "metadata": {},
   "outputs": [],
   "source": [
    "from sklearn.feature_selection import f_classif"
   ]
  },
  {
   "cell_type": "code",
   "execution_count": 13,
   "metadata": {},
   "outputs": [
    {
     "name": "stdout",
     "output_type": "stream",
     "text": [
      "特征F-统计值 [ 0.44444528  0.62892926  0.07207263 15.8918915 ]\n",
      "特征选择后的数据值 [[2 4]\n",
      " [6 9]\n",
      " [4 2]\n",
      " [4 1]\n",
      " [7 2]\n",
      " [5 6]]\n"
     ]
    }
   ],
   "source": [
    "selector = SelectKBest(f_classif, k=2)\n",
    "selector.fit(X, Y)\n",
    "selected_X = selector.transform(X)\n",
    "\n",
    "print(\"特征F-统计值\", selector.scores_)\n",
    "print(\"特征选择后的数据值\", selected_X)"
   ]
  },
  {
   "cell_type": "markdown",
   "metadata": {},
   "source": [
    "5. 皮尔逊相关系数（Pearson Correlation）\n",
    "回归问题\n",
    "\n",
    "用于衡量两个连续变量之间的线性相关性程度（两个随机变量协方差和标准差的商）\n",
    "\n",
    "皮尔逊相关系数越大，表示特征与目标变量越相关"
   ]
  },
  {
   "cell_type": "code",
   "execution_count": 14,
   "metadata": {},
   "outputs": [],
   "source": [
    "from scipy.stats import pearsonr\n",
    "import pandas as pd"
   ]
  },
  {
   "cell_type": "code",
   "execution_count": 23,
   "metadata": {},
   "outputs": [
    {
     "ename": "TypeError",
     "evalue": "ufunc 'isnan' not supported for the input types, and the inputs could not be safely coerced to any supported types according to the casting rule ''safe''",
     "output_type": "error",
     "traceback": [
      "\u001b[1;31m---------------------------------------------------------------------------\u001b[0m",
      "\u001b[1;31mTypeError\u001b[0m                                 Traceback (most recent call last)",
      "Cell \u001b[1;32mIn[23], line 12\u001b[0m\n\u001b[0;32m      9\u001b[0m     \u001b[38;5;28;01mreturn\u001b[39;00m np\u001b[38;5;241m.\u001b[39mabsolute(result[:, \u001b[38;5;241m0\u001b[39m]), result[:, \u001b[38;5;241m1\u001b[39m]\n\u001b[0;32m     11\u001b[0m selector \u001b[38;5;241m=\u001b[39m SelectKBest(ud_pearsonr, k\u001b[38;5;241m=\u001b[39m\u001b[38;5;241m4\u001b[39m)\n\u001b[1;32m---> 12\u001b[0m selector\u001b[38;5;241m.\u001b[39mfit(X, Y)\n\u001b[0;32m     13\u001b[0m selected_X \u001b[38;5;241m=\u001b[39m selector\u001b[38;5;241m.\u001b[39mtransform(X)\n\u001b[0;32m     15\u001b[0m \u001b[38;5;28mprint\u001b[39m(\u001b[38;5;124m\"\u001b[39m\u001b[38;5;124m\"\u001b[39m, pd\u001b[38;5;241m.\u001b[39mSeries(selector\u001b[38;5;241m.\u001b[39mscores_, index \u001b[38;5;241m=\u001b[39m X\u001b[38;5;241m.\u001b[39mcolumns))\n",
      "File \u001b[1;32mc:\\Users\\henry\\anaconda3\\Lib\\site-packages\\sklearn\\feature_selection\\_univariate_selection.py:472\u001b[0m, in \u001b[0;36m_BaseFilter.fit\u001b[1;34m(self, X, y)\u001b[0m\n\u001b[0;32m    467\u001b[0m X, y \u001b[38;5;241m=\u001b[39m \u001b[38;5;28mself\u001b[39m\u001b[38;5;241m.\u001b[39m_validate_data(\n\u001b[0;32m    468\u001b[0m     X, y, accept_sparse\u001b[38;5;241m=\u001b[39m[\u001b[38;5;124m\"\u001b[39m\u001b[38;5;124mcsr\u001b[39m\u001b[38;5;124m\"\u001b[39m, \u001b[38;5;124m\"\u001b[39m\u001b[38;5;124mcsc\u001b[39m\u001b[38;5;124m\"\u001b[39m], multi_output\u001b[38;5;241m=\u001b[39m\u001b[38;5;28;01mTrue\u001b[39;00m\n\u001b[0;32m    469\u001b[0m )\n\u001b[0;32m    471\u001b[0m \u001b[38;5;28mself\u001b[39m\u001b[38;5;241m.\u001b[39m_check_params(X, y)\n\u001b[1;32m--> 472\u001b[0m score_func_ret \u001b[38;5;241m=\u001b[39m \u001b[38;5;28mself\u001b[39m\u001b[38;5;241m.\u001b[39mscore_func(X, y)\n\u001b[0;32m    473\u001b[0m \u001b[38;5;28;01mif\u001b[39;00m \u001b[38;5;28misinstance\u001b[39m(score_func_ret, (\u001b[38;5;28mlist\u001b[39m, \u001b[38;5;28mtuple\u001b[39m)):\n\u001b[0;32m    474\u001b[0m     \u001b[38;5;28mself\u001b[39m\u001b[38;5;241m.\u001b[39mscores_, \u001b[38;5;28mself\u001b[39m\u001b[38;5;241m.\u001b[39mpvalues_ \u001b[38;5;241m=\u001b[39m score_func_ret\n",
      "Cell \u001b[1;32mIn[23], line 8\u001b[0m, in \u001b[0;36mud_pearsonr\u001b[1;34m(X, y)\u001b[0m\n\u001b[0;32m      7\u001b[0m \u001b[38;5;28;01mdef\u001b[39;00m \u001b[38;5;21mud_pearsonr\u001b[39m(X, y):\n\u001b[1;32m----> 8\u001b[0m     result \u001b[38;5;241m=\u001b[39m np\u001b[38;5;241m.\u001b[39marray([pearsonr(x, y) \u001b[38;5;28;01mfor\u001b[39;00m x \u001b[38;5;129;01min\u001b[39;00m X\u001b[38;5;241m.\u001b[39mT])\n\u001b[0;32m      9\u001b[0m     \u001b[38;5;28;01mreturn\u001b[39;00m np\u001b[38;5;241m.\u001b[39mabsolute(result[:, \u001b[38;5;241m0\u001b[39m]), result[:, \u001b[38;5;241m1\u001b[39m]\n",
      "Cell \u001b[1;32mIn[23], line 8\u001b[0m, in \u001b[0;36m<listcomp>\u001b[1;34m(.0)\u001b[0m\n\u001b[0;32m      7\u001b[0m \u001b[38;5;28;01mdef\u001b[39;00m \u001b[38;5;21mud_pearsonr\u001b[39m(X, y):\n\u001b[1;32m----> 8\u001b[0m     result \u001b[38;5;241m=\u001b[39m np\u001b[38;5;241m.\u001b[39marray([pearsonr(x, y) \u001b[38;5;28;01mfor\u001b[39;00m x \u001b[38;5;129;01min\u001b[39;00m X\u001b[38;5;241m.\u001b[39mT])\n\u001b[0;32m      9\u001b[0m     \u001b[38;5;28;01mreturn\u001b[39;00m np\u001b[38;5;241m.\u001b[39mabsolute(result[:, \u001b[38;5;241m0\u001b[39m]), result[:, \u001b[38;5;241m1\u001b[39m]\n",
      "File \u001b[1;32mc:\\Users\\henry\\anaconda3\\Lib\\site-packages\\scipy\\stats\\_stats_py.py:4860\u001b[0m, in \u001b[0;36mpearsonr\u001b[1;34m(x, y, alternative, method)\u001b[0m\n\u001b[0;32m   4858\u001b[0m dist \u001b[38;5;241m=\u001b[39m stats\u001b[38;5;241m.\u001b[39mbeta(ab, ab, loc\u001b[38;5;241m=\u001b[39m\u001b[38;5;241m-\u001b[39m\u001b[38;5;241m1\u001b[39m, scale\u001b[38;5;241m=\u001b[39m\u001b[38;5;241m2\u001b[39m)\n\u001b[0;32m   4859\u001b[0m \u001b[38;5;28;01mif\u001b[39;00m alternative \u001b[38;5;241m==\u001b[39m \u001b[38;5;124m'\u001b[39m\u001b[38;5;124mtwo-sided\u001b[39m\u001b[38;5;124m'\u001b[39m:\n\u001b[1;32m-> 4860\u001b[0m     prob \u001b[38;5;241m=\u001b[39m \u001b[38;5;241m2\u001b[39m\u001b[38;5;241m*\u001b[39mdist\u001b[38;5;241m.\u001b[39msf(\u001b[38;5;28mabs\u001b[39m(r))\n\u001b[0;32m   4861\u001b[0m \u001b[38;5;28;01melif\u001b[39;00m alternative \u001b[38;5;241m==\u001b[39m \u001b[38;5;124m'\u001b[39m\u001b[38;5;124mless\u001b[39m\u001b[38;5;124m'\u001b[39m:\n\u001b[0;32m   4862\u001b[0m     prob \u001b[38;5;241m=\u001b[39m dist\u001b[38;5;241m.\u001b[39mcdf(r)\n",
      "File \u001b[1;32mc:\\Users\\henry\\anaconda3\\Lib\\site-packages\\scipy\\stats\\_distn_infrastructure.py:494\u001b[0m, in \u001b[0;36mrv_frozen.sf\u001b[1;34m(self, x)\u001b[0m\n\u001b[0;32m    493\u001b[0m \u001b[38;5;28;01mdef\u001b[39;00m \u001b[38;5;21msf\u001b[39m(\u001b[38;5;28mself\u001b[39m, x):\n\u001b[1;32m--> 494\u001b[0m     \u001b[38;5;28;01mreturn\u001b[39;00m \u001b[38;5;28mself\u001b[39m\u001b[38;5;241m.\u001b[39mdist\u001b[38;5;241m.\u001b[39msf(x, \u001b[38;5;241m*\u001b[39m\u001b[38;5;28mself\u001b[39m\u001b[38;5;241m.\u001b[39margs, \u001b[38;5;241m*\u001b[39m\u001b[38;5;241m*\u001b[39m\u001b[38;5;28mself\u001b[39m\u001b[38;5;241m.\u001b[39mkwds)\n",
      "File \u001b[1;32mc:\\Users\\henry\\anaconda3\\Lib\\site-packages\\scipy\\stats\\_distn_infrastructure.py:2155\u001b[0m, in \u001b[0;36mrv_continuous.sf\u001b[1;34m(self, x, *args, **kwds)\u001b[0m\n\u001b[0;32m   2153\u001b[0m cond \u001b[38;5;241m=\u001b[39m cond0 \u001b[38;5;241m&\u001b[39m cond1\n\u001b[0;32m   2154\u001b[0m output \u001b[38;5;241m=\u001b[39m zeros(shape(cond), dtyp)\n\u001b[1;32m-> 2155\u001b[0m place(output, (\u001b[38;5;241m1\u001b[39m\u001b[38;5;241m-\u001b[39mcond0)\u001b[38;5;241m+\u001b[39mnp\u001b[38;5;241m.\u001b[39misnan(x), \u001b[38;5;28mself\u001b[39m\u001b[38;5;241m.\u001b[39mbadvalue)\n\u001b[0;32m   2156\u001b[0m place(output, cond2, \u001b[38;5;241m1.0\u001b[39m)\n\u001b[0;32m   2157\u001b[0m \u001b[38;5;28;01mif\u001b[39;00m np\u001b[38;5;241m.\u001b[39many(cond):\n",
      "\u001b[1;31mTypeError\u001b[0m: ufunc 'isnan' not supported for the input types, and the inputs could not be safely coerced to any supported types according to the casting rule ''safe''"
     ]
    }
   ],
   "source": [
    "house_train_df = pd.read_csv(\"../data/california_house/train.csv\", index_col=['id'])\n",
    "house_train_df\n",
    "Y = house_train_df[['MedHouseVal']]\n",
    "X = house_train_df.drop(columns=['MedHouseVal'])\n",
    "\n",
    "\n",
    "def ud_pearsonr(X, y):\n",
    "    result = np.array([pearsonr(x, y) for x in X.T])\n",
    "    return np.absolute(result[:, 0]), result[:, 1]\n",
    "\n",
    "selector = SelectKBest(ud_pearsonr, k=4)\n",
    "selector.fit(X, Y)\n",
    "selected_X = selector.transform(X)\n",
    "\n",
    "print(\"\", pd.Series(selector.scores_, index = X.columns))\n",
    "print(\"\", np.array(X.columns)[selector.get_support(indices=True)])"
   ]
  }
 ],
 "metadata": {
  "kernelspec": {
   "display_name": "base",
   "language": "python",
   "name": "python3"
  },
  "language_info": {
   "codemirror_mode": {
    "name": "ipython",
    "version": 3
   },
   "file_extension": ".py",
   "mimetype": "text/x-python",
   "name": "python",
   "nbconvert_exporter": "python",
   "pygments_lexer": "ipython3",
   "version": "3.11.7"
  }
 },
 "nbformat": 4,
 "nbformat_minor": 2
}
