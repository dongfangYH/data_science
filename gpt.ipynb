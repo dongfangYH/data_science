{
 "cells": [
  {
   "cell_type": "code",
   "execution_count": null,
   "metadata": {},
   "outputs": [],
   "source": [
    "import os\n",
    "import openai\n",
    "\n",
    "openai.api_base = \"https://api.theb.ai/v1\"\n",
    "openai.api_key = \"\"\n",
    "\n",
    "content = \"\"\"\n",
    "\n",
    "\"\"\"\n",
    "\n",
    "completion = openai.ChatCompletion.create(\n",
    "  model=\"gpt-3.5-turbo\",\n",
    "  messages=[\n",
    "    {\"role\": \"system\", \"content\": \"please help to clean the text so that the result text can be used to train BERTopic model.(Just return the result text and remove meaningless content that doesn't contribute to the text main topic)\"},\n",
    "    {\"role\": \"user\", \"content\": content}\n",
    "  ],\n",
    "  stream=False,\n",
    "  model_params={\n",
    "    \"temperature\": 0.8\n",
    "  }\n",
    ")\n",
    "\n",
    "print(completion.choices[0].message)\n",
    "\n"
   ]
  }
 ],
 "metadata": {
  "kernelspec": {
   "display_name": "ds",
   "language": "python",
   "name": "python3"
  },
  "language_info": {
   "codemirror_mode": {
    "name": "ipython",
    "version": 3
   },
   "file_extension": ".py",
   "mimetype": "text/x-python",
   "name": "python",
   "nbconvert_exporter": "python",
   "pygments_lexer": "ipython3",
   "version": "3.8.18"
  }
 },
 "nbformat": 4,
 "nbformat_minor": 2
}
